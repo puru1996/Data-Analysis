{
 "cells": [
  {
   "cell_type": "markdown",
   "id": "7843a165",
   "metadata": {},
   "source": [
    "<h1> Task 1 </h1>"
   ]
  },
  {
   "cell_type": "markdown",
   "id": "6bccda74",
   "metadata": {},
   "source": [
    "<h3> Importing the required libraries </h3>"
   ]
  },
  {
   "cell_type": "code",
   "execution_count": 1,
   "id": "118e7674",
   "metadata": {},
   "outputs": [],
   "source": [
    "from bs4 import BeautifulSoup\n",
    "import requests \n",
    "import urllib.request\n",
    "import re"
   ]
  },
  {
   "cell_type": "markdown",
   "id": "320c60f2",
   "metadata": {},
   "source": [
    "<h3> Parsing the required url using Beautiful Soup </h3>"
   ]
  },
  {
   "cell_type": "code",
   "execution_count": 5,
   "id": "5284375d",
   "metadata": {},
   "outputs": [],
   "source": [
    "url = 'http://mlg.ucd.ie/modules/python/EVdata'\n",
    "result = requests.get(url)\n",
    "doc = BeautifulSoup(result.content , \"html.parser\")\n",
    "# print(doc.prettify())"
   ]
  },
  {
   "cell_type": "code",
   "execution_count": 6,
   "id": "3447ee7a",
   "metadata": {},
   "outputs": [],
   "source": [
    "title = []\n",
    "texts= doc.find_all('a' )\n",
    "for text in texts:\n",
    "    title.append(re.sub(\"[^a-zA-Z]+\", \"\", text.get_text()))"
   ]
  },
  {
   "cell_type": "code",
   "execution_count": 7,
   "id": "3f6aa4bd",
   "metadata": {},
   "outputs": [],
   "source": [
    "href_tags  = []\n",
    "for a in doc.find_all('a', href=True):\n",
    "    href_tags.append(a['href'].split('.')[0])"
   ]
  },
  {
   "cell_type": "code",
   "execution_count": 8,
   "id": "d3b18868",
   "metadata": {},
   "outputs": [],
   "source": [
    "dict_name= {} \n",
    "for i in range(0,len(title)):\n",
    "    for j in range(0,len(href_tags)):\n",
    "        if i ==j:\n",
    "            dict_name[j] = title[i] "
   ]
  },
  {
   "cell_type": "markdown",
   "id": "22a7bf7e",
   "metadata": {},
   "source": [
    "<h3> Downloading the required files </h3>"
   ]
  },
  {
   "cell_type": "markdown",
   "id": "7d122e09",
   "metadata": {},
   "source": [
    "While downloading the files I am renaming each file and also storing its name in a separate file so that I have names of all the downloaded file for further task "
   ]
  },
  {
   "cell_type": "code",
   "execution_count": 10,
   "id": "55ec376f",
   "metadata": {},
   "outputs": [
    {
     "name": "stdout",
     "output_type": "stream",
     "text": [
      "AtlanticCoastRoute  File Downloaded as EuroVelo 1\n",
      "CapitalsRoute  File Downloaded as EuroVelo 2\n",
      "PilgrimsRoute  File Downloaded as EuroVelo 3\n",
      "CentralEuropeRoute  File Downloaded as EuroVelo 4\n",
      "ViaRomeaFrancigena  File Downloaded as EuroVelo 5\n",
      "AtlanticBlackSea  File Downloaded as EuroVelo 6\n",
      "SunRoute  File Downloaded as EuroVelo 7\n",
      "MediterraneanRoute  File Downloaded as EuroVelo 8\n",
      "BalticAdriatic  File Downloaded as EuroVelo 9\n",
      "BalticSeaCycleRoute  File Downloaded as EuroVelo 10\n",
      "EastEuropeRoute  File Downloaded as EuroVelo 11\n",
      "NorthSeaCycleRoute  File Downloaded as EuroVelo 12\n",
      "IronCurtainTrail  File Downloaded as EuroVelo 13\n",
      "WatersofCentralEurope  File Downloaded as EuroVelo 14\n",
      "RhineCycleRoute  File Downloaded as EuroVelo 15\n",
      "RhoneCycleRoute  File Downloaded as EuroVelo 17\n",
      "MeuseCycleRoute  File Downloaded as EuroVelo 19\n"
     ]
    }
   ],
   "source": [
    "f = open(\"File_Names.txt\" , \"w+\") # Creating a file containing the names of all the track files so that it can be used in Task2\n",
    "for i in range(0,len(href_tags)):\n",
    "    urllib.request.urlretrieve('http://mlg.ucd.ie/modules/python/EVdata/gpx_data' + '/' + href_tags[i] +'.gpx', filename = 'EuroVelo '+ href_tags[i].split('ev')[1] )\n",
    "    with open(\"File_Names.txt\", \"a\") as f:\n",
    "        f.write('EuroVelo '+ href_tags[i].split('ev')[1]+ '\\n') # Storing the names of all the track files in a file so that it can be used in Task2\n",
    "    print(dict_name[i], ' File Downloaded as', 'EuroVelo '+ href_tags[i].split('ev')[1])\n",
    "f.close()"
   ]
  }
 ],
 "metadata": {
  "kernelspec": {
   "display_name": "Python 3 (ipykernel)",
   "language": "python",
   "name": "python3"
  },
  "language_info": {
   "codemirror_mode": {
    "name": "ipython",
    "version": 3
   },
   "file_extension": ".py",
   "mimetype": "text/x-python",
   "name": "python",
   "nbconvert_exporter": "python",
   "pygments_lexer": "ipython3",
   "version": "3.9.12"
  }
 },
 "nbformat": 4,
 "nbformat_minor": 5
}
